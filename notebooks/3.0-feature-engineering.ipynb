{
 "cells": [
  {
   "cell_type": "markdown",
   "id": "579f3278",
   "metadata": {},
   "source": [
    "# Feature Engineering Phase\n",
    "In this notebook I'm implementing all the feature engineering code in order to prepare our dataset for modeling.\n",
    "\n",
    "**Author**: Arthur G.\n",
    "***"
   ]
  },
  {
   "cell_type": "markdown",
   "id": "5c1ed140",
   "metadata": {},
   "source": [
    "## Imporing Dependencies\n",
    "In this first section I'm importing all the dependencies and configurations for the notebook."
   ]
  },
  {
   "cell_type": "code",
   "execution_count": 1,
   "id": "ec37b2ae",
   "metadata": {},
   "outputs": [],
   "source": [
    "# custom dependencies\n",
    "import sys\n",
    "sys.path.append('../')\n",
    "\n",
    "# libs\n",
    "import os\n",
    "import joblib\n",
    "import numpy as np\n",
    "import pandas as pd\n",
    "import seaborn as sns\n",
    "import scipy.stats as stats\n",
    "import matplotlib.pyplot as plt\n",
    "from src.data.make_dataset import *\n",
    "from src.features.build_features import *\n",
    "from src.visualization.visualize import *\n",
    "from sklearn.preprocessing import MinMaxScaler\n",
    "from sklearn.model_selection import train_test_split\n",
    "\n",
    "\n",
    "# settings\n",
    "seed = np.random.seed(42)\n",
    "pd.set_option('display.precision', 3)\n",
    "pd.set_option('display.max_columns', None)"
   ]
  },
  {
   "cell_type": "markdown",
   "id": "d09bb04a",
   "metadata": {},
   "source": [
    "## Loading Dataset\n",
    "Now I'll load the processed dataset."
   ]
  },
  {
   "cell_type": "code",
   "execution_count": 2,
   "id": "bfb4ab3f",
   "metadata": {},
   "outputs": [
    {
     "name": "stdout",
     "output_type": "stream",
     "text": [
      "<class 'pandas.core.frame.DataFrame'>\n",
      "RangeIndex: 1302 entries, 0 to 1301\n",
      "Data columns (total 19 columns):\n",
      " #   Column                      Non-Null Count  Dtype  \n",
      "---  ------                      --------------  -----  \n",
      " 0   DEPARTURE_ARRIVAL_DURATION  1302 non-null   float64\n",
      " 1   ARRIVAL_DEPARTURE_DURATION  1302 non-null   float64\n",
      " 2   STOPOVERS                   1302 non-null   int64  \n",
      " 3   VESSEL_TYPE                 1302 non-null   object \n",
      " 4   HULL_MATERIAL               1302 non-null   object \n",
      " 5   VESSEL_LENGTH               1302 non-null   float64\n",
      " 6   VESSEL_BEAN                 1302 non-null   float64\n",
      " 7   VESSEL_DRAFT                1302 non-null   float64\n",
      " 8   VESSEL_DEPTH                1302 non-null   float64\n",
      " 9   MOTOR_POWER                 1302 non-null   float64\n",
      " 10  SPEED                       1302 non-null   float64\n",
      " 11  NUM_PROPELLERS              1302 non-null   int64  \n",
      " 12  NUM_GENERATORS              1302 non-null   float64\n",
      " 13  DWT                         552 non-null    float64\n",
      " 14  LIGHT_DISPLACEMENT          548 non-null    float64\n",
      " 15  CREW                        1302 non-null   int64  \n",
      " 16  PASS_CAPACITY               1302 non-null   float64\n",
      " 17  LOAD_CAPACITY               1302 non-null   float64\n",
      " 18  FUEL_CONSUMPTION            1302 non-null   float64\n",
      "dtypes: float64(14), int64(3), object(2)\n",
      "memory usage: 193.4+ KB\n"
     ]
    }
   ],
   "source": [
    "df = pd.read_csv(os.path.join('..', 'data', 'interim', 'fuel_consumption_data.csv'))\n",
    "df.info()"
   ]
  },
  {
   "cell_type": "markdown",
   "id": "5f65fa63",
   "metadata": {},
   "source": [
    "## Dataset Split\n",
    "The first thing we want to do in the feature engineering phase is to split our dataset into train and test splits. We need to split it at the beginning because a lot of pre-processing objects we gonna use will learn from data parameters such as:\n",
    "+ mean\n",
    "+ mode\n",
    "+ exponents for mathematical transformations\n",
    "+ category frequency\n",
    "+ and etc."
   ]
  },
  {
   "cell_type": "code",
   "execution_count": 3,
   "id": "b3f81124",
   "metadata": {},
   "outputs": [
    {
     "name": "stdout",
     "output_type": "stream",
     "text": [
      "Train set: (1171, 18)\n",
      "Test set: (131, 18)\n"
     ]
    }
   ],
   "source": [
    "# splitting predictors/targets\n",
    "predictors = df.drop(['FUEL_CONSUMPTION'], axis=1)\n",
    "targets = df.FUEL_CONSUMPTION\n",
    "\n",
    "# splitting train/test\n",
    "x_train, x_test, y_train, y_test = train_test_split(\n",
    "    predictors,\n",
    "    targets,\n",
    "    test_size=0.1,\n",
    "    random_state=seed,\n",
    "    shuffle=True\n",
    ")\n",
    "\n",
    "# applying log transformation on targets\n",
    "y_train = np.log(y_train)\n",
    "y_test = np.log(y_test)\n",
    "\n",
    "print(f\"Train set: {x_train.shape}\")\n",
    "print(f\"Test set: {x_test.shape}\")"
   ]
  },
  {
   "cell_type": "markdown",
   "id": "fb211470",
   "metadata": {},
   "source": [
    "## Handling Missing Values\n",
    "We have two problematic columns with a high amount of missing values, DWT and LIGHT_DISPLACEMENT. Once they're numerical variables, let's implement a binary missing values replacement."
   ]
  },
  {
   "cell_type": "code",
   "execution_count": 4,
   "id": "b94d228a",
   "metadata": {
    "scrolled": true
   },
   "outputs": [
    {
     "name": "stdout",
     "output_type": "stream",
     "text": [
      "There are a total of 0 nans in both train and test sets!\n"
     ]
    }
   ],
   "source": [
    "vars_with_nans = ['DWT', 'LIGHT_DISPLACEMENT']\n",
    "\n",
    "for var in vars_with_nans:\n",
    "    # calculating the variable mean\n",
    "    mean_val = x_train[var].mean()\n",
    "    \n",
    "    # adding a binary missing indicator (in train and test)\n",
    "    x_train[var + '_na'] = np.where(x_train[var].isnull(), 1, 0)\n",
    "    x_test[var + '_na'] = np.where(x_test[var].isnull(), 1, 0)\n",
    "    \n",
    "    # filling missing values with the mean\n",
    "    x_train[var].fillna(mean_val, inplace=True)\n",
    "    x_test[var].fillna(mean_val, inplace=True)\n",
    "    \n",
    "# checking for missing values\n",
    "train_nulls = x_train.isnull().sum().sum()\n",
    "test_nulls = x_test.isnull().sum().sum()\n",
    "print(f\"There are a total of {train_nulls + test_nulls} nans in both train and test sets!\")"
   ]
  },
  {
   "cell_type": "markdown",
   "id": "608dd637",
   "metadata": {},
   "source": [
    "## Numerical Variable Transformation\n",
    "In this section I'm transforming the numerical variables based on what we've described in the data analysis notebook."
   ]
  },
  {
   "cell_type": "markdown",
   "id": "3d1a3bdc",
   "metadata": {},
   "source": [
    "### Logarithmic Transformation\n",
    "Let's firts transform variables with log transformation."
   ]
  },
  {
   "cell_type": "code",
   "execution_count": 5,
   "id": "d70f490a",
   "metadata": {},
   "outputs": [],
   "source": [
    "log_transformable_vars = ['LIGHT_DISPLACEMENT']\n",
    "\n",
    "for var in log_transformable_vars:\n",
    "    x_train[var] = np.log(x_train[var])\n",
    "    x_test[var] = np.log(x_test[var])"
   ]
  },
  {
   "cell_type": "markdown",
   "id": "a50b79f3",
   "metadata": {},
   "source": [
    "### Yeo-Johnson Transformation\n",
    "Now I'll transform variables with yeo-johnson transformation."
   ]
  },
  {
   "cell_type": "code",
   "execution_count": 6,
   "id": "6fdadedf",
   "metadata": {},
   "outputs": [],
   "source": [
    "yeojohnson_transformable_vars = [\n",
    "    'DEPARTURE_ARRIVAL_DURATION',\n",
    "    'ARRIVAL_DEPARTURE_DURATION',\n",
    "    'VESSEL_LENGTH',\n",
    "    'VESSEL_BEAN',\n",
    "    'VESSEL_DRAFT',\n",
    "    'VESSEL_DEPTH',\n",
    "    'SPEED'\n",
    "]\n",
    "\n",
    "for var in yeojohnson_transformable_vars:\n",
    "    x_train[var], param = stats.yeojohnson(x_train[var])\n",
    "    x_test[var], param = stats.yeojohnson(x_test[var])"
   ]
  },
  {
   "cell_type": "markdown",
   "id": "45df2a6c",
   "metadata": {},
   "source": [
    "## Data Encoding\n",
    "In this section I'll be encoding categorical data. Here I'll be transforming string categorical variables into numbers by ranking labels based on the mean FUEL_CONSUMPTION. This way we can encode categorical data in a mathematical meaningful way for the model."
   ]
  },
  {
   "cell_type": "code",
   "execution_count": 7,
   "id": "1a232bec",
   "metadata": {},
   "outputs": [
    {
     "name": "stdout",
     "output_type": "stream",
     "text": [
      "VESSEL_TYPE {'PASSENGERS': 0, 'OTHER': 1, 'MOTORBOAT': 2, 'FLAT_BOTTOMED_BOAT': 3, 'PASSENGER/GENERAL_LOAD': 4, 'FERRY_BOAT': 5, 'CATAMARAN': 6}\n",
      "HULL_MATERIAL {'FIBER': 0, 'ALUMINIUM': 1, 'WOOD': 2, 'NAVAL_STEEL': 3}\n"
     ]
    }
   ],
   "source": [
    "encodable_categorical_vars = ['VESSEL_TYPE', 'HULL_MATERIAL']\n",
    "\n",
    "for var in encodable_categorical_vars:\n",
    "    encode_categories(x_train, x_test, y_train, var, 'FUEL_CONSUMPTION')"
   ]
  },
  {
   "cell_type": "markdown",
   "id": "767da8d2",
   "metadata": {},
   "source": [
    "Now let's analyze the monotonic relationship exposed by the data encoding strategy applied to our categorical variables listed above."
   ]
  },
  {
   "cell_type": "code",
   "execution_count": 15,
   "id": "12abdbf8",
   "metadata": {},
   "outputs": [
    {
     "data": {
      "image/png": "[encoded data removed]",
      "text/plain": [
       "<Figure size 432x288 with 1 Axes>"
      ]
     },
     "metadata": {
      "needs_background": "light"
     },
     "output_type": "display_data"
    },
    {
     "data": {
      "image/png": "[encoded data removed]",
      "text/plain": [
       "<Figure size 432x288 with 1 Axes>"
      ]
     },
     "metadata": {
      "needs_background": "light"
     },
     "output_type": "display_data"
    }
   ],
   "source": [
    "for var in encodable_categorical_vars:\n",
    "    plot_monotonic_relationship(x_train, y_train, var, 'FUEL_CONSUMPTION')"
   ]
  },
  {
   "cell_type": "markdown",
   "id": "35cff107",
   "metadata": {},
   "source": [
    "As the target variable is log transformed, we can't easily see the monotonic relationship (the increase in fuel consumption as the encoded variable increases as well). But we can rest assured that our encoding is mathematically meaningful for the model."
   ]
  },
  {
   "cell_type": "markdown",
   "id": "e3b5a0f8",
   "metadata": {},
   "source": [
    "## Feature Scaling\n",
    "For our data to successfully fit linear models we need our columns to be scaled in the \"same unit of measurement\". To do this we make use of Scikit-learn's MinMaxScaler."
   ]
  },
  {
   "cell_type": "code",
   "execution_count": 16,
   "id": "3c314876",
   "metadata": {},
   "outputs": [
    {
     "data": {
      "text/html": [
       "<div>\n",
       "<style scoped>\n",
       "    .dataframe tbody tr th:only-of-type {\n",
       "        vertical-align: middle;\n",
       "    }\n",
       "\n",
       "    .dataframe tbody tr th {\n",
       "        vertical-align: top;\n",
       "    }\n",
       "\n",
       "    .dataframe thead th {\n",
       "        text-align: right;\n",
       "    }\n",
       "</style>\n",
       "<table border=\"1\" class=\"dataframe\">\n",
       "  <thead>\n",
       "    <tr style=\"text-align: right;\">\n",
       "      <th></th>\n",
       "      <th>DEPARTURE_ARRIVAL_DURATION</th>\n",
       "      <th>ARRIVAL_DEPARTURE_DURATION</th>\n",
       "      <th>STOPOVERS</th>\n",
       "      <th>VESSEL_TYPE</th>\n",
       "      <th>HULL_MATERIAL</th>\n",
       "      <th>VESSEL_LENGTH</th>\n",
       "      <th>VESSEL_BEAN</th>\n",
       "      <th>VESSEL_DRAFT</th>\n",
       "      <th>VESSEL_DEPTH</th>\n",
       "      <th>MOTOR_POWER</th>\n",
       "      <th>SPEED</th>\n",
       "      <th>NUM_PROPELLERS</th>\n",
       "      <th>NUM_GENERATORS</th>\n",
       "      <th>DWT</th>\n",
       "      <th>LIGHT_DISPLACEMENT</th>\n",
       "      <th>CREW</th>\n",
       "      <th>PASS_CAPACITY</th>\n",
       "      <th>LOAD_CAPACITY</th>\n",
       "      <th>DWT_na</th>\n",
       "      <th>LIGHT_DISPLACEMENT_na</th>\n",
       "    </tr>\n",
       "  </thead>\n",
       "  <tbody>\n",
       "    <tr>\n",
       "      <th>0</th>\n",
       "      <td>0.387</td>\n",
       "      <td>0.399</td>\n",
       "      <td>0.000</td>\n",
       "      <td>0.833</td>\n",
       "      <td>1.000</td>\n",
       "      <td>0.691</td>\n",
       "      <td>0.643</td>\n",
       "      <td>0.440</td>\n",
       "      <td>0.364</td>\n",
       "      <td>0.088</td>\n",
       "      <td>0.383</td>\n",
       "      <td>0.25</td>\n",
       "      <td>0.4</td>\n",
       "      <td>0.113</td>\n",
       "      <td>0.542</td>\n",
       "      <td>0.381</td>\n",
       "      <td>0.158</td>\n",
       "      <td>0.098</td>\n",
       "      <td>0.0</td>\n",
       "      <td>0.0</td>\n",
       "    </tr>\n",
       "    <tr>\n",
       "      <th>1</th>\n",
       "      <td>0.852</td>\n",
       "      <td>0.844</td>\n",
       "      <td>0.091</td>\n",
       "      <td>0.667</td>\n",
       "      <td>0.667</td>\n",
       "      <td>0.494</td>\n",
       "      <td>0.498</td>\n",
       "      <td>0.325</td>\n",
       "      <td>0.364</td>\n",
       "      <td>0.045</td>\n",
       "      <td>0.124</td>\n",
       "      <td>0.25</td>\n",
       "      <td>0.4</td>\n",
       "      <td>0.102</td>\n",
       "      <td>0.558</td>\n",
       "      <td>0.143</td>\n",
       "      <td>0.033</td>\n",
       "      <td>0.109</td>\n",
       "      <td>1.0</td>\n",
       "      <td>1.0</td>\n",
       "    </tr>\n",
       "    <tr>\n",
       "      <th>2</th>\n",
       "      <td>0.852</td>\n",
       "      <td>0.862</td>\n",
       "      <td>0.000</td>\n",
       "      <td>0.667</td>\n",
       "      <td>0.667</td>\n",
       "      <td>0.441</td>\n",
       "      <td>0.643</td>\n",
       "      <td>0.325</td>\n",
       "      <td>0.186</td>\n",
       "      <td>0.028</td>\n",
       "      <td>0.792</td>\n",
       "      <td>0.25</td>\n",
       "      <td>0.4</td>\n",
       "      <td>0.102</td>\n",
       "      <td>0.558</td>\n",
       "      <td>0.095</td>\n",
       "      <td>0.025</td>\n",
       "      <td>0.013</td>\n",
       "      <td>1.0</td>\n",
       "      <td>1.0</td>\n",
       "    </tr>\n",
       "    <tr>\n",
       "      <th>3</th>\n",
       "      <td>0.603</td>\n",
       "      <td>0.616</td>\n",
       "      <td>0.000</td>\n",
       "      <td>0.667</td>\n",
       "      <td>0.667</td>\n",
       "      <td>0.505</td>\n",
       "      <td>0.445</td>\n",
       "      <td>0.456</td>\n",
       "      <td>0.382</td>\n",
       "      <td>0.106</td>\n",
       "      <td>0.548</td>\n",
       "      <td>0.25</td>\n",
       "      <td>0.4</td>\n",
       "      <td>0.022</td>\n",
       "      <td>0.251</td>\n",
       "      <td>0.238</td>\n",
       "      <td>0.050</td>\n",
       "      <td>0.019</td>\n",
       "      <td>0.0</td>\n",
       "      <td>0.0</td>\n",
       "    </tr>\n",
       "    <tr>\n",
       "      <th>4</th>\n",
       "      <td>0.812</td>\n",
       "      <td>0.799</td>\n",
       "      <td>0.000</td>\n",
       "      <td>0.667</td>\n",
       "      <td>0.667</td>\n",
       "      <td>0.303</td>\n",
       "      <td>0.217</td>\n",
       "      <td>0.259</td>\n",
       "      <td>0.213</td>\n",
       "      <td>0.045</td>\n",
       "      <td>0.225</td>\n",
       "      <td>0.00</td>\n",
       "      <td>0.2</td>\n",
       "      <td>0.102</td>\n",
       "      <td>0.558</td>\n",
       "      <td>0.048</td>\n",
       "      <td>0.013</td>\n",
       "      <td>0.000</td>\n",
       "      <td>1.0</td>\n",
       "      <td>1.0</td>\n",
       "    </tr>\n",
       "  </tbody>\n",
       "</table>\n",
       "</div>"
      ],
      "text/plain": [
       "   DEPARTURE_ARRIVAL_DURATION  ARRIVAL_DEPARTURE_DURATION  STOPOVERS  \\\n",
       "0                       0.387                       0.399      0.000   \n",
       "1                       0.852                       0.844      0.091   \n",
       "2                       0.852                       0.862      0.000   \n",
       "3                       0.603                       0.616      0.000   \n",
       "4                       0.812                       0.799      0.000   \n",
       "\n",
       "   VESSEL_TYPE  HULL_MATERIAL  VESSEL_LENGTH  VESSEL_BEAN  VESSEL_DRAFT  \\\n",
       "0        0.833          1.000          0.691        0.643         0.440   \n",
       "1        0.667          0.667          0.494        0.498         0.325   \n",
       "2        0.667          0.667          0.441        0.643         0.325   \n",
       "3        0.667          0.667          0.505        0.445         0.456   \n",
       "4        0.667          0.667          0.303        0.217         0.259   \n",
       "\n",
       "   VESSEL_DEPTH  MOTOR_POWER  SPEED  NUM_PROPELLERS  NUM_GENERATORS    DWT  \\\n",
       "0         0.364        0.088  0.383            0.25             0.4  0.113   \n",
       "1         0.364        0.045  0.124            0.25             0.4  0.102   \n",
       "2         0.186        0.028  0.792            0.25             0.4  0.102   \n",
       "3         0.382        0.106  0.548            0.25             0.4  0.022   \n",
       "4         0.213        0.045  0.225            0.00             0.2  0.102   \n",
       "\n",
       "   LIGHT_DISPLACEMENT   CREW  PASS_CAPACITY  LOAD_CAPACITY  DWT_na  \\\n",
       "0               0.542  0.381          0.158          0.098     0.0   \n",
       "1               0.558  0.143          0.033          0.109     1.0   \n",
       "2               0.558  0.095          0.025          0.013     1.0   \n",
       "3               0.251  0.238          0.050          0.019     0.0   \n",
       "4               0.558  0.048          0.013          0.000     1.0   \n",
       "\n",
       "   LIGHT_DISPLACEMENT_na  \n",
       "0                    0.0  \n",
       "1                    1.0  \n",
       "2                    1.0  \n",
       "3                    0.0  \n",
       "4                    1.0  "
      ]
     },
     "execution_count": 16,
     "metadata": {},
     "output_type": "execute_result"
    }
   ],
   "source": [
    "# creating and fitting the scaler\n",
    "scaler = MinMaxScaler(feature_range=[0, 1])\n",
    "scaler.fit(x_train)\n",
    "\n",
    "# transforming train and test sets\n",
    "x_train = pd.DataFrame(scaler.transform(x_train), columns=x_train.columns)\n",
    "x_test = pd.DataFrame(scaler.transform(x_test), columns=x_test.columns)\n",
    "\n",
    "x_train.head()"
   ]
  },
  {
   "cell_type": "markdown",
   "id": "84a39e6d",
   "metadata": {},
   "source": [
    "Now let's quickly reorganize our columns before saving the train and test data."
   ]
  },
  {
   "cell_type": "code",
   "execution_count": 18,
   "id": "f369b061",
   "metadata": {},
   "outputs": [
    {
     "data": {
      "text/html": [
       "<div>\n",
       "<style scoped>\n",
       "    .dataframe tbody tr th:only-of-type {\n",
       "        vertical-align: middle;\n",
       "    }\n",
       "\n",
       "    .dataframe tbody tr th {\n",
       "        vertical-align: top;\n",
       "    }\n",
       "\n",
       "    .dataframe thead th {\n",
       "        text-align: right;\n",
       "    }\n",
       "</style>\n",
       "<table border=\"1\" class=\"dataframe\">\n",
       "  <thead>\n",
       "    <tr style=\"text-align: right;\">\n",
       "      <th></th>\n",
       "      <th>DEPARTURE_ARRIVAL_DURATION</th>\n",
       "      <th>ARRIVAL_DEPARTURE_DURATION</th>\n",
       "      <th>STOPOVERS</th>\n",
       "      <th>VESSEL_TYPE</th>\n",
       "      <th>HULL_MATERIAL</th>\n",
       "      <th>VESSEL_LENGTH</th>\n",
       "      <th>VESSEL_BEAN</th>\n",
       "      <th>VESSEL_DRAFT</th>\n",
       "      <th>VESSEL_DEPTH</th>\n",
       "      <th>MOTOR_POWER</th>\n",
       "      <th>SPEED</th>\n",
       "      <th>NUM_PROPELLERS</th>\n",
       "      <th>NUM_GENERATORS</th>\n",
       "      <th>DWT</th>\n",
       "      <th>DWT_na</th>\n",
       "      <th>LIGHT_DISPLACEMENT</th>\n",
       "      <th>LIGHT_DISPLACEMENT_na</th>\n",
       "      <th>CREW</th>\n",
       "      <th>PASS_CAPACITY</th>\n",
       "      <th>LOAD_CAPACITY</th>\n",
       "    </tr>\n",
       "  </thead>\n",
       "  <tbody>\n",
       "    <tr>\n",
       "      <th>0</th>\n",
       "      <td>0.387</td>\n",
       "      <td>0.399</td>\n",
       "      <td>0.000</td>\n",
       "      <td>0.833</td>\n",
       "      <td>1.000</td>\n",
       "      <td>0.691</td>\n",
       "      <td>0.643</td>\n",
       "      <td>0.440</td>\n",
       "      <td>0.364</td>\n",
       "      <td>0.088</td>\n",
       "      <td>0.383</td>\n",
       "      <td>0.25</td>\n",
       "      <td>0.4</td>\n",
       "      <td>0.113</td>\n",
       "      <td>0.0</td>\n",
       "      <td>0.542</td>\n",
       "      <td>0.0</td>\n",
       "      <td>0.381</td>\n",
       "      <td>0.158</td>\n",
       "      <td>0.098</td>\n",
       "    </tr>\n",
       "    <tr>\n",
       "      <th>1</th>\n",
       "      <td>0.852</td>\n",
       "      <td>0.844</td>\n",
       "      <td>0.091</td>\n",
       "      <td>0.667</td>\n",
       "      <td>0.667</td>\n",
       "      <td>0.494</td>\n",
       "      <td>0.498</td>\n",
       "      <td>0.325</td>\n",
       "      <td>0.364</td>\n",
       "      <td>0.045</td>\n",
       "      <td>0.124</td>\n",
       "      <td>0.25</td>\n",
       "      <td>0.4</td>\n",
       "      <td>0.102</td>\n",
       "      <td>1.0</td>\n",
       "      <td>0.558</td>\n",
       "      <td>1.0</td>\n",
       "      <td>0.143</td>\n",
       "      <td>0.033</td>\n",
       "      <td>0.109</td>\n",
       "    </tr>\n",
       "    <tr>\n",
       "      <th>2</th>\n",
       "      <td>0.852</td>\n",
       "      <td>0.862</td>\n",
       "      <td>0.000</td>\n",
       "      <td>0.667</td>\n",
       "      <td>0.667</td>\n",
       "      <td>0.441</td>\n",
       "      <td>0.643</td>\n",
       "      <td>0.325</td>\n",
       "      <td>0.186</td>\n",
       "      <td>0.028</td>\n",
       "      <td>0.792</td>\n",
       "      <td>0.25</td>\n",
       "      <td>0.4</td>\n",
       "      <td>0.102</td>\n",
       "      <td>1.0</td>\n",
       "      <td>0.558</td>\n",
       "      <td>1.0</td>\n",
       "      <td>0.095</td>\n",
       "      <td>0.025</td>\n",
       "      <td>0.013</td>\n",
       "    </tr>\n",
       "    <tr>\n",
       "      <th>3</th>\n",
       "      <td>0.603</td>\n",
       "      <td>0.616</td>\n",
       "      <td>0.000</td>\n",
       "      <td>0.667</td>\n",
       "      <td>0.667</td>\n",
       "      <td>0.505</td>\n",
       "      <td>0.445</td>\n",
       "      <td>0.456</td>\n",
       "      <td>0.382</td>\n",
       "      <td>0.106</td>\n",
       "      <td>0.548</td>\n",
       "      <td>0.25</td>\n",
       "      <td>0.4</td>\n",
       "      <td>0.022</td>\n",
       "      <td>0.0</td>\n",
       "      <td>0.251</td>\n",
       "      <td>0.0</td>\n",
       "      <td>0.238</td>\n",
       "      <td>0.050</td>\n",
       "      <td>0.019</td>\n",
       "    </tr>\n",
       "    <tr>\n",
       "      <th>4</th>\n",
       "      <td>0.812</td>\n",
       "      <td>0.799</td>\n",
       "      <td>0.000</td>\n",
       "      <td>0.667</td>\n",
       "      <td>0.667</td>\n",
       "      <td>0.303</td>\n",
       "      <td>0.217</td>\n",
       "      <td>0.259</td>\n",
       "      <td>0.213</td>\n",
       "      <td>0.045</td>\n",
       "      <td>0.225</td>\n",
       "      <td>0.00</td>\n",
       "      <td>0.2</td>\n",
       "      <td>0.102</td>\n",
       "      <td>1.0</td>\n",
       "      <td>0.558</td>\n",
       "      <td>1.0</td>\n",
       "      <td>0.048</td>\n",
       "      <td>0.013</td>\n",
       "      <td>0.000</td>\n",
       "    </tr>\n",
       "  </tbody>\n",
       "</table>\n",
       "</div>"
      ],
      "text/plain": [
       "   DEPARTURE_ARRIVAL_DURATION  ARRIVAL_DEPARTURE_DURATION  STOPOVERS  \\\n",
       "0                       0.387                       0.399      0.000   \n",
       "1                       0.852                       0.844      0.091   \n",
       "2                       0.852                       0.862      0.000   \n",
       "3                       0.603                       0.616      0.000   \n",
       "4                       0.812                       0.799      0.000   \n",
       "\n",
       "   VESSEL_TYPE  HULL_MATERIAL  VESSEL_LENGTH  VESSEL_BEAN  VESSEL_DRAFT  \\\n",
       "0        0.833          1.000          0.691        0.643         0.440   \n",
       "1        0.667          0.667          0.494        0.498         0.325   \n",
       "2        0.667          0.667          0.441        0.643         0.325   \n",
       "3        0.667          0.667          0.505        0.445         0.456   \n",
       "4        0.667          0.667          0.303        0.217         0.259   \n",
       "\n",
       "   VESSEL_DEPTH  MOTOR_POWER  SPEED  NUM_PROPELLERS  NUM_GENERATORS    DWT  \\\n",
       "0         0.364        0.088  0.383            0.25             0.4  0.113   \n",
       "1         0.364        0.045  0.124            0.25             0.4  0.102   \n",
       "2         0.186        0.028  0.792            0.25             0.4  0.102   \n",
       "3         0.382        0.106  0.548            0.25             0.4  0.022   \n",
       "4         0.213        0.045  0.225            0.00             0.2  0.102   \n",
       "\n",
       "   DWT_na  LIGHT_DISPLACEMENT  LIGHT_DISPLACEMENT_na   CREW  PASS_CAPACITY  \\\n",
       "0     0.0               0.542                    0.0  0.381          0.158   \n",
       "1     1.0               0.558                    1.0  0.143          0.033   \n",
       "2     1.0               0.558                    1.0  0.095          0.025   \n",
       "3     0.0               0.251                    0.0  0.238          0.050   \n",
       "4     1.0               0.558                    1.0  0.048          0.013   \n",
       "\n",
       "   LOAD_CAPACITY  \n",
       "0          0.098  \n",
       "1          0.109  \n",
       "2          0.013  \n",
       "3          0.019  \n",
       "4          0.000  "
      ]
     },
     "execution_count": 18,
     "metadata": {},
     "output_type": "execute_result"
    }
   ],
   "source": [
    "columns_organization = ['DEPARTURE_ARRIVAL_DURATION', 'ARRIVAL_DEPARTURE_DURATION', 'STOPOVERS',\n",
    "       'VESSEL_TYPE', 'HULL_MATERIAL', 'VESSEL_LENGTH', 'VESSEL_BEAN','VESSEL_DRAFT', 'VESSEL_DEPTH', \n",
    "       'MOTOR_POWER', 'SPEED', 'NUM_PROPELLERS', 'NUM_GENERATORS', 'DWT', 'DWT_na', 'LIGHT_DISPLACEMENT', \n",
    "       'LIGHT_DISPLACEMENT_na', 'CREW', 'PASS_CAPACITY', 'LOAD_CAPACITY']\n",
    "\n",
    "x_train = x_train[columns_organization]\n",
    "x_test = x_test[columns_organization]\n",
    "\n",
    "x_train.head()"
   ]
  },
  {
   "cell_type": "markdown",
   "id": "5187d154",
   "metadata": {},
   "source": [
    "## Serializing Data and Transformations\n",
    "Here I'll be serializing the transformed train and test sets as well as the scaler."
   ]
  },
  {
   "cell_type": "code",
   "execution_count": 19,
   "id": "957ac65d",
   "metadata": {},
   "outputs": [
    {
     "data": {
      "text/plain": [
       "['../models/minmax_scaler.joblib']"
      ]
     },
     "execution_count": 19,
     "metadata": {},
     "output_type": "execute_result"
    }
   ],
   "source": [
    "# serializing train and test sets\n",
    "x_train.to_csv(os.path.join('..', 'data', 'processed', 'x_train.csv'), index=False)\n",
    "x_test.to_csv(os.path.join('..', 'data', 'processed', 'x_test.csv'), index=False)\n",
    "\n",
    "y_train.to_csv(os.path.join('..', 'data', 'processed', 'y_train.csv'), index=False)\n",
    "y_test.to_csv(os.path.join('..', 'data', 'processed', 'y_test.csv'), index=False)\n",
    "\n",
    "# serializing the scaler\n",
    "joblib.dump(scaler, os.path.join('..', 'models', 'minmax_scaler.joblib'))"
   ]
  },
  {
   "cell_type": "markdown",
   "id": "a9b2159a",
   "metadata": {},
   "source": [
    "Now we're finished with our feature engineer phase."
   ]
  },
  {
   "cell_type": "code",
   "execution_count": null,
   "id": "c877d0ee",
   "metadata": {},
   "outputs": [],
   "source": []
  }
 ],
 "metadata": {
  "kernelspec": {
   "display_name": "Python 3 (ipykernel)",
   "language": "python",
   "name": "python3"
  },
  "language_info": {
   "codemirror_mode": {
    "name": "ipython",
    "version": 3
   },
   "file_extension": ".py",
   "mimetype": "text/x-python",
   "name": "python",
   "nbconvert_exporter": "python",
   "pygments_lexer": "ipython3",
   "version": "3.8.10"
  }
 },
 "nbformat": 4,
 "nbformat_minor": 5
}
